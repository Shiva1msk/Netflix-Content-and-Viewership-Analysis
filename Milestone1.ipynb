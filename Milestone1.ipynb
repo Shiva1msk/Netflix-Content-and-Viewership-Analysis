{
 "cells": [
  {
   "cell_type": "markdown",
   "metadata": {},
   "source": [
    "# Netflix Content and Viewership Analysis\n",
    "\n",
    "## 1. Introduction\n",
    "This notebook analyzes Netflix's content production trends, viewership patterns, and demographic influences across different time periods and regions. We'll explore the balance between movies and TV shows, genre popularity, and viewership demographics."
   ]
  },
  {
   "cell_type": "markdown",
   "metadata": {},
   "source": [
    "## 2. Data Loading and Preprocessing\n",
    "We'll load two datasets: Netflix content data and viewership data. These datasets will be merged to provide a comprehensive view of content and its associated viewership statistics."
   ]
  },
  {
   "cell_type": "code",
   "execution_count": null,
   "metadata": {},
   "outputs": [],
   "source": [
    "!pip install plotly pandas\n",
    "\n",
    "print(\"\\nWe've installed the necessary libraries.\")"
   ]
  },
  {
   "cell_type": "code",
   "execution_count": null,
   "metadata": {},
   "outputs": [],
   "source": [
    "import pandas as pd\n",
    "import plotly.express as px\n",
    "import plotly.io as pio\n",
    "import time\n",
    "\n",
    "# Set default renderer for Plotly\n",
    "pio.renderers.default = 'iframe'\n",
    "\n",
    "print(\"\\nWe have now imported those libraries so we can:\\n\",\n",
    "      \"- Use pandas for data manipulation\\n\",\n",
    "      \"- Create interactive plots with plotly and statistical data visualization\\n\")"
   ]
  },
  {
   "cell_type": "code",
   "execution_count": null,
   "metadata": {},
   "outputs": [],
   "source": [
    "def load_dataset(url):\n",
    "    try:\n",
    "        return pd.read_csv(url)\n",
    "    except Exception as e:\n",
    "        print(f'Error loading dataset: {e}')\n",
    "        return None\n",
    "\n",
    "netflix_df = load_dataset('https://gitlab.crio.do/public_content/da_ds_artifacts/-/raw/master/netflix-dataset.csv')\n",
    "viewership_df = load_dataset('https://gitlab.crio.do/public_content/da_ds_artifacts/-/raw/master/Viewership_Data_with_Demographics.csv')\n",
    "\n",
    "print(\"\\nWe've defined a function to load datasets from URLs and used it to load our Netflix content and viewership datasets.\\n\")"
   ]
  },
  {
   "cell_type": "code",
   "execution_count": null,
   "metadata": {},
   "outputs": [],
   "source": [
    "if netflix_df is not None and viewership_df is not None:\n",
    "    for df in [netflix_df, viewership_df]:\n",
    "        if 'id' in df.columns:\n",
    "            df.rename(columns={'id': 'show_id'}, inplace=True)\n",
    "    \n",
    "    data = pd.merge(netflix_df, viewership_df, on='show_id', how='inner')\n",
    "    display(data.head())\n",
    "    print(\"We've successfully merged the Netflix content and viewership datasets on the 'show_id' column. This combined dataset will be used for our analysis.\")\n",
    "else:\n",
    "    print(\"Failed to load or merge datasets\")"
   ]
  },
  {
   "cell_type": "markdown",
   "metadata": {},
   "source": [
    "## 3. Movies vs Shows Analysis\n",
    "\n",
    "### 3.1 Movies/Shows Count Over the Years\n",
    "We'll visualize how the production of Movies and TV Shows has evolved over time, grouped into 5-year intervals for better trend visibility."
   ]
  },
  {
   "cell_type": "code",
   "execution_count": null,
   "metadata": {},
   "outputs": [],
   "source": [
    "def plot_movies_vs_shows(data):\n",
    "    data['year_interval'] = (data['release_year'] // 5) * 5\n",
    "    movies_vs_shows_interval = data.groupby(['year_interval', 'type']).size().unstack(fill_value=0)\n",
    "    movies_vs_shows_long = movies_vs_shows_interval.reset_index().melt(id_vars='year_interval', \n",
    "                                                                       var_name='Type', \n",
    "                                                                       value_name='Count')\n",
    "    \n",
    "    fig = px.bar(movies_vs_shows_long, \n",
    "                 x='year_interval', \n",
    "                 y='Count', \n",
    "                 color='Type', \n",
    "                 title='Movies vs TV Shows Over 5-Year Intervals',\n",
    "                 labels={'year_interval': '5-Year Intervals', 'Count': 'Number of Titles Produced'},\n",
    "                 text='Count',\n",
    "                 height=600)\n",
    "    \n",
    "    fig.update_layout(barmode='stack', xaxis_title='5-Year Intervals', yaxis_title='Number of Titles', \n",
    "                      legend_title='Type')\n",
    "    fig.show()\n",
    "    \n",
    "print(\"\\nWe've defined a function to create a stacked bar chart showing the count of Movies vs TV Shows over 5-year intervals.\\n\")"
   ]
  },
  {
   "cell_type": "code",
   "execution_count": null,
   "metadata": {},
   "outputs": [],
   "source": [
    "plot_movies_vs_shows(data)\n",
    "\n",
    "print(\"This chart visualizes the trend in Netflix's content production, showing how the balance between Movies and TV Shows has changed over time.\")"
   ]
  },
  {
   "cell_type": "markdown",
   "metadata": {},
   "source": [
    "### 3.2 Insight\n",
    "The stacked bar chart above illustrates Netflix's content production focus over time, showing whether they've been emphasizing Movies or TV Shows in different periods. This can help us understand Netflix's content strategy evolution."
   ]
  },
  {
   "cell_type": "markdown",
   "metadata": {},
   "source": [
    "## 4. Show Popularity Analysis\n",
    "\n",
    "### 4.1 What Kind of Shows are Becoming Popular\n",
    "We'll analyze which genres of TV Shows are growing in popularity across the years, helping to identify trending content categories."
   ]
  },
  {
   "cell_type": "code",
   "execution_count": null,
   "metadata": {},
   "outputs": [],
   "source": [
    "def plot_genre_popularity(data):\n",
    "    if 'genres' not in data.columns:\n",
    "        print(\"No 'genres' column found. Please check the dataset.\")\n",
    "        return\n",
    "    \n",
    "    tv_shows = data[data['type'] == 'SHOW'].copy()\n",
    "    tv_shows['genres'] = tv_shows['genres'].apply(lambda x: eval(x) if isinstance(x, str) else x)\n",
    "    tv_shows_exploded = tv_shows.explode('genres')\n",
    "    tv_shows_exploded['year_interval'] = (tv_shows_exploded['release_year'] // 5) * 5\n",
    "    \n",
    "    genres_popularity = tv_shows_exploded.groupby(['year_interval', 'genres']).size().unstack(fill_value=0)\n",
    "    genres_popularity_long = genres_popularity.reset_index().melt(id_vars='year_interval', var_name='Genre', value_name='Count')\n",
    "    \n",
    "    fig = px.bar(genres_popularity_long, \n",
    "                 x='year_interval', \n",
    "                 y='Count', \n",
    "                 color='Genre', \n",
    "                 title='Popularity of TV Show Genres Over 5-Year Intervals',\n",
    "                 labels={'year_interval': '5-Year Intervals', 'Count': 'Number of Shows'},\n",
    "                 text='Count',\n",
    "                 height=600)\n",
    "    \n",
    "    fig.update_layout(barmode='stack', xaxis_title='5-Year Intervals', yaxis_title='Number of Shows', \n",
    "                      legend_title='Genres', \n",
    "                      legend=dict(x=1, y=1, bgcolor='rgba(255,255,255,0.5)', bordercolor='rgba(0,0,0,0.1)'))\n",
    "    fig.show()\n",
    "    \n",
    "print(\"\\nWe've defined a function to create a stacked bar chart showing the popularity of different TV show genres over 5-year intervals.\\n\")"
   ]
  },
  {
   "cell_type": "code",
   "execution_count": null,
   "metadata": {},
   "outputs": [],
   "source": [
    "plot_genre_popularity(data)\n",
    "\n",
    "print(\"This chart visualizes the changing popularity of different TV show genres over time, helping identify trends in content preferences.\")"
   ]
  },
  {
   "cell_type": "markdown",
   "metadata": {},
   "source": [
    "### 4.2 Insight\n",
    "The stacked bar chart reveals which genres of TV shows are becoming more popular, which remain constant, and which are declining over time. This information can guide content creation strategies and help predict future trends."
   ]
  },
  {
   "cell_type": "markdown",
   "metadata": {},
   "source": [
    "## 5. Genre Distribution Analysis\n",
    "\n",
    "### 5.1 Genre Distribution by Region\n",
    "We'll explore how genre preferences vary across different regions, providing insights into regional content preferences."
   ]
  },
  {
   "cell_type": "code",
   "execution_count": null,
   "metadata": {},
   "outputs": [],
   "source": [
    "def plot_genre_distribution_by_region(data):\n",
    "    if 'genres' not in data.columns or 'viewer_region' not in data.columns:\n",
    "        print(\"The 'genres' or 'viewer_region' column is not found in the dataset.\")\n",
    "        return\n",
    "    \n",
    "    # Ensure genres column is properly formatted as lists\n",
    "    data['genres'] = data['genres'].apply(lambda x: eval(x) if isinstance(x, str) else x)\n",
    "    data_exploded = data.explode('genres')\n",
    "    \n",
    "    # Group by region and genre\n",
    "    genre_region_distribution = data_exploded.groupby(['viewer_region', 'genres']).size().unstack(fill_value=0)\n",
    "    \n",
    "    for region in genre_region_distribution.index:\n",
    "        genre_counts = genre_region_distribution.loc[region].reset_index()\n",
    "        genre_counts.columns = ['Genre', 'Count']\n",
    "        \n",
    "        # Check if there are genres to plot\n",
    "        if genre_counts['Count'].sum() == 0:\n",
    "            print(f\"No genre data available for {region}. Skipping plot.\")\n",
    "            continue\n",
    "        \n",
    "        # Create pie chart\n",
    "        fig = px.pie(genre_counts, \n",
    "                     values='Count', \n",
    "                     names='Genre', \n",
    "                     title=f'Genre Distribution in {region}', \n",
    "                     hover_data=['Count'], \n",
    "                     labels={'Count':'Number of Titles'})\n",
    "        \n",
    "        fig.show()\n",
    "        time.sleep(1)  # add delay to ensure rendering\n",
    "        \n",
    "print(\"\\nWe've defined a function to create pie charts showing the distribution of genres for each region in our dataset.\\n\")"
   ]
  },
  {
   "cell_type": "code",
   "execution_count": null,
   "metadata": {},
   "outputs": [],
   "source": [
    "plot_genre_distribution_by_region(data)\n",
    "\n",
    "print(\"These pie charts visualize the genre distribution for each region, allowing us to compare content preferences across different geographical areas.\")"
   ]
  },
  {
   "cell_type": "markdown",
   "metadata": {},
   "source": [
    "### 5.2 Insight\n",
    "These pie charts illustrate the genre distribution across different regions, highlighting potential regional preferences in content consumption. This information can be valuable for targeted content creation and marketing strategies, allowing Netflix to tailor its offerings to specific regional tastes."
   ]
  },
  {
   "cell_type": "markdown",
   "metadata": {},
   "source": [
    "## 6. Viewership Analysis\n",
    "\n",
    "### 6.1 Viewership Based on Demographics\n",
    "We'll visualize viewership patterns based on age groups and regions to understand how different demographic segments consume Netflix content."
   ]
  },
  {
   "cell_type": "code",
   "execution_count": null,
   "metadata": {},
   "outputs": [],
   "source": [
    "def plot_viewership_by_age_and_region(data):\n",
    "    age_region_viewership = data.groupby(['viewer_age_group', 'viewer_region'])['viewership_count'].sum().unstack()\n",
    "    age_region_viewership_long = age_region_viewership.reset_index().melt(id_vars='viewer_age_group', \n",
    "                                                                          var_name='Region', \n",
    "                                                                          value_name='Viewership')\n",
    "    \n",
    "    fig = px.bar(age_region_viewership_long, \n",
    "                 x='viewer_age_group', \n",
    "                 y='Viewership', \n",
    "                 color='Region', \n",
    "                 title='Stacked Viewership by Age Group and Region',\n",
    "                 labels={'viewer_age_group': 'Age Group', 'Viewership': 'Total Viewership Count'},\n",
    "                 hover_data={'Viewership': ':.0f'})\n",
    "    fig.show()\n",
    "    \n",
    "print(\"\\nWe've defined a function to create a stacked bar chart showing viewership patterns across different age groups and regions.\\n\")"
   ]
  },
  {
   "cell_type": "code",
   "execution_count": null,
   "metadata": {},
   "outputs": [],
   "source": [
    "plot_viewership_by_age_and_region(data)\n",
    "\n",
    "print(\"This stacked bar chart visualizes the viewership distribution across different age groups and regions, allowing us to identify demographic trends in content consumption.\")"
   ]
  },
  {
   "cell_type": "markdown",
   "metadata": {},
   "source": [
    "### 6.2 Insight\n",
    "This stacked bar chart provides insights into the content preferences of different age groups across various regions. It can help in tailoring content and marketing strategies for specific demographic segments, potentially leading to more targeted content recommendations and acquisition strategies."
   ]
  },
  {
   "cell_type": "markdown",
   "metadata": {},
   "source": [
    "## 7. Conclusion\n",
    "Based on the analysis conducted, we can draw several conclusions:\n",
    "\n",
    "1. Content Production Trends: We've observed how Netflix's focus on Movies vs TV Shows has evolved over time, which reflects their content strategy shifts.\n",
    "2. Genre Popularity: We've identified which genres are gaining popularity, remaining stable, or declining, providing insights for future content creation.\n",
    "3. Regional Preferences: We've uncovered how genre preferences vary across different regions, which can inform region-specific content strategies.\n",
    "4. Demographic Insights: We've gained understanding of viewership patterns across age groups and regions, allowing for more targeted content and marketing approaches.\n",
    "\n",
    "These insights can be used to optimize content creation strategies, inform marketing efforts, and enhance the overall viewer experience on the Netflix platform. By leveraging this data, Netflix can make more informed decisions about what types of content to produce or acquire, how to market different shows or movies to specific demographics, and how to tailor their content library for different regions."
   ]
  }
 ],
 "metadata": {
  "kernelspec": {
   "display_name": "Python 3 (ipykernel)",
   "language": "python",
   "name": "python3"
  },
  "language_info": {
   "codemirror_mode": {
    "name": "ipython",
    "version": 3
   },
   "file_extension": ".py",
   "mimetype": "text/x-python",
   "name": "python",
   "nbconvert_exporter": "python",
   "pygments_lexer": "ipython3",
   "version": "3.11.10"
  }
 },
 "nbformat": 4,
 "nbformat_minor": 4
}
